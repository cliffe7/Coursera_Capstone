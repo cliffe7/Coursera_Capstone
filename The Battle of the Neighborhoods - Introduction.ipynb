{
 "cells": [
  {
   "cell_type": "markdown",
   "metadata": {},
   "source": [
    "# The Battle of the Neighborhoods - New York Restaurant Project"
   ]
  },
  {
   "cell_type": "markdown",
   "metadata": {},
   "source": [
    "## Introduction/Bussines Problem"
   ]
  },
  {
   "cell_type": "markdown",
   "metadata": {},
   "source": [
    "### Problem Background"
   ]
  },
  {
   "cell_type": "markdown",
   "metadata": {},
   "source": [
    "New York City, which will be the city used for this project, is one of the most famous cities in the world. Not only for interesting buildings such as Empire State Building and excellent arts scene, but also for its diverse and rich cuisine. NY is a home to hundreds, if not thousands unique restaurants, bars and other food related establishments.\n",
    "\n",
    "What that means is that it's extremely hard to \"break out\" and achieve success. There's no room for error if one wants to not be forced to give up after only a short time. Any major investments, such as starting a restaurant, need to be carefully planned and thought out, not only to maximize the profits, but also to not simply fail."
   ]
  },
  {
   "cell_type": "markdown",
   "metadata": {},
   "source": [
    "### Problem Description"
   ]
  },
  {
   "cell_type": "markdown",
   "metadata": {},
   "source": [
    "The problem that this project will seek to solve is: what is the best location for a new restaurant in New York City that will guarantee the client, a future restaurant owner, the highest chances of success?\n",
    "\n",
    "As mentioned, NY is a home to many different restaurants, serving a variety of dishes and cuisines, including, but not limited to, Italian, Mexican, Thai, Chinese and many, many more. There are both chain and locally owned restaurants of different sizes in different locations. As such, competition is very steep and one must take into consideration many factors when choosing where to establish their restaurant.\n",
    "\n",
    "Some of the most important factors to consider are:\n",
    "- demographics and population (how many people of what age, gender and ethnicity live in what parts of NY)\n",
    "- competitors in selected area\n",
    "- other entertainment venues close by (cinemas, malls and so on).\n"
   ]
  },
  {
   "cell_type": "markdown",
   "metadata": {},
   "source": [
    "### Target Audience"
   ]
  },
  {
   "cell_type": "markdown",
   "metadata": {},
   "source": [
    "Target audience of this project is compromised of investors who are interested in starting a restaurant in New York (or anywhere else, as this method, with other data, may be used in relation to any other city)."
   ]
  },
  {
   "cell_type": "markdown",
   "metadata": {},
   "source": [
    "### Success Criteria"
   ]
  },
  {
   "cell_type": "markdown",
   "metadata": {},
   "source": [
    "This project will be considered successful if it will allow to make a good recommendation in relation to a restaurant location, so that a perspective investor knows where (and why) it's best to start his business."
   ]
  }
 ],
 "metadata": {
  "kernelspec": {
   "display_name": "Python",
   "language": "python",
   "name": "conda-env-python-py"
  },
  "language_info": {
   "codemirror_mode": {
    "name": "ipython",
    "version": 3
   },
   "file_extension": ".py",
   "mimetype": "text/x-python",
   "name": "python",
   "nbconvert_exporter": "python",
   "pygments_lexer": "ipython3",
   "version": "3.6.7"
  }
 },
 "nbformat": 4,
 "nbformat_minor": 4
}
