{
 "cells": [
  {
   "cell_type": "markdown",
   "metadata": {},
   "source": [
    "# The Battle of the Neighborhoods - New York Restaurant Project"
   ]
  },
  {
   "cell_type": "markdown",
   "metadata": {},
   "source": [
    "## Data"
   ]
  },
  {
   "cell_type": "markdown",
   "metadata": {},
   "source": [
    "In this project, four different data sources will be utilized, all of them relating to different aspects of New York City."
   ]
  },
  {
   "cell_type": "markdown",
   "metadata": {},
   "source": [
    "### 1. Neighborhoods data from NYU Spatial Data Repository"
   ]
  },
  {
   "cell_type": "markdown",
   "metadata": {},
   "source": [
    "In order to properly analyze a city as big as NY, it will have to be segmented into smaller pieces: neighborhoods and boroughs. NY currently has 5 boroughs and 306 neighborhoods.\n",
    "\n",
    "Data about the boroughs' and neighborhoods' names and coordinates can be found publicly available here: https://geo.nyu.edu/catalog/nyu_2451_34572"
   ]
  },
  {
   "cell_type": "markdown",
   "metadata": {},
   "source": [
    "### 2. Foursquare data"
   ]
  },
  {
   "cell_type": "markdown",
   "metadata": {},
   "source": [
    "Foursquare API will be used to retrieve geographical coordinates about competing venues and their type."
   ]
  },
  {
   "cell_type": "markdown",
   "metadata": {},
   "source": [
    "### 3. Population, demographics and cuisine data from Wikipedia"
   ]
  },
  {
   "cell_type": "markdown",
   "metadata": {},
   "source": [
    "In order to make a good recommendation about the best location for a restaurant, data such as NY population and demographics will need to be used. It can be found publicly available on Wikipedia here:\n",
    "    \n",
    "https://en.wikipedia.org/wiki/New_York_City  \n",
    "https://en.wikipedia.org/wiki/Portal:New_York_City  \n",
    "https://en.wikipedia.org/wiki/Economy_of_New_York_City  \n",
    "https://en.wikipedia.org/wiki/List_of_Michelin_starred_restaurants_in_New_York_City  \n",
    "https://en.wikipedia.org/wiki/Cuisine_of_New_York_City"
   ]
  },
  {
   "cell_type": "markdown",
   "metadata": {},
   "source": [
    "### 4. Farmers markets data"
   ]
  },
  {
   "cell_type": "markdown",
   "metadata": {},
   "source": [
    "Proximity of farmers markets is important in relation to a restaurant location. As such, we will need to use data pertaining to farmers markets in NY. It can be found publicly available here:\n",
    "\n",
    "https://data.cityofnewyork.us/dataset/DOHMH-Farmers-Markets-and-Food-Boxes/8vwk-6iz2  \n",
    "\n",
    "https://www.grownyc.org/greenmarketco/foodbox"
   ]
  }
 ],
 "metadata": {
  "kernelspec": {
   "display_name": "Python",
   "language": "python",
   "name": "conda-env-python-py"
  },
  "language_info": {
   "codemirror_mode": {
    "name": "ipython",
    "version": 3
   },
   "file_extension": ".py",
   "mimetype": "text/x-python",
   "name": "python",
   "nbconvert_exporter": "python",
   "pygments_lexer": "ipython3",
   "version": "3.6.7"
  }
 },
 "nbformat": 4,
 "nbformat_minor": 4
}
